{
 "cells": [
  {
   "cell_type": "code",
   "execution_count": 9,
   "metadata": {},
   "outputs": [
    {
     "name": "stdout",
     "output_type": "stream",
     "text": [
      "['1113-2318/0000.bmp', '1113-2318/0001.bmp', '1113-2318/0002.bmp', '1113-2318/0003.bmp', '1113-2318/0004.bmp', '1113-2318/0005.bmp', '1113-2318/0006.bmp', '1113-2318/0007.bmp', '1113-2318/0008.bmp', '1113-2318/0009.bmp', '1113-2318/0010.bmp', '1113-2318/0011.bmp', '1113-2318/0012.bmp', '1113-2318/0013.bmp', '1113-2318/0014.bmp', '1113-2318/0015.bmp', '1113-2318/0016.bmp', '1113-2318/0017.bmp', '1113-2318/0018.bmp', '1113-2318/0019.bmp', '1113-2318/0020.bmp', '1113-2318/0021.bmp', '1113-2318/0022.bmp', '1113-2318/0023.bmp', '1113-2318/0024.bmp', '1113-2318/0025.bmp', '1113-2318/0026.bmp', '1113-2318/0027.bmp', '1113-2318/0028.bmp', '1113-2318/0029.bmp', '1113-2318/0030.bmp', '1113-2318/0031.bmp']\n"
     ]
    },
    {
     "data": {
      "image/png": "[encoded data removed]",
      "text/plain": [
       "<matplotlib.figure.Figure at 0x7fb1418850d0>"
      ]
     },
     "metadata": {},
     "output_type": "display_data"
    }
   ],
   "source": [
    "import util\n",
    "import cv2\n",
    "import wrinkle2\n",
    "import numpy as np\n",
    "import matplotlib.pyplot as plt\n",
    "# build the initial classifier\n",
    "folder = '1113-2318/'\n",
    "filelist = util.get_filelist(folder,'bmp')\n",
    "print filelist\n",
    "\n",
    "im = cv2.imread(filelist[0])\n",
    "im = cv2.cvtColor(im, cv2.COLOR_RGB2GRAY)\n",
    "plt.imshow(im)\n",
    "plt.show()"
   ]
  }
 ],
 "metadata": {
  "kernelspec": {
   "display_name": "Python 2",
   "language": "python",
   "name": "python2"
  },
  "language_info": {
   "codemirror_mode": {
    "name": "ipython",
    "version": 2
   },
   "file_extension": ".py",
   "mimetype": "text/x-python",
   "name": "python",
   "nbconvert_exporter": "python",
   "pygments_lexer": "ipython2",
   "version": "2.7.13"
  }
 },
 "nbformat": 4,
 "nbformat_minor": 2
}
